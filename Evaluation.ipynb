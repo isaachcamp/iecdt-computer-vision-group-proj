{
 "cells": [
  {
   "cell_type": "markdown",
   "metadata": {},
   "source": [
    "Aims:\n",
    "\n",
    "- Part of evaluation loop\n",
    "- RMSE/accuracy/confusion matrix\n",
    "- Both for each individual image and across all images\n",
    "- Compare array of each of the ground truth and the data from wherever it came from"
   ]
  },
  {
   "cell_type": "code",
   "execution_count": null,
   "metadata": {},
   "outputs": [],
   "source": [
    "import pandas as pd\n",
    "import os\n",
    "import numpy as np\n",
    "import sklearn\n",
    "from sklearn.metrics import confusion_matrix\n",
    "\n"
   ]
  },
  {
   "cell_type": "code",
   "execution_count": 3,
   "metadata": {},
   "outputs": [],
   "source": [
    "PATH = ('/gws/nopw/j04/iecdt/JERMIT_the_frog')"
   ]
  },
  {
   "cell_type": "code",
   "execution_count": 4,
   "metadata": {},
   "outputs": [
    {
     "name": "stdout",
     "output_type": "stream",
     "text": [
      "          height  1691388010  1691388070  1691388130  1691388190  1691388250  \\\n",
      "0      114.54125           0           0           0           0           0   \n",
      "1      144.51833           0           0           0           0           0   \n",
      "2      174.49533           0           0           0           0           0   \n",
      "3      204.47241           0           0           0           0           0   \n",
      "4      234.44948           0           0           0           0           0   \n",
      "..           ...         ...         ...         ...         ...         ...   \n",
      "454  13724.13100           0           0           0           0           0   \n",
      "455  13754.10800           0           0           0           0           0   \n",
      "456  13784.08500           0           0           0           0           0   \n",
      "457  13814.06200           0           0           0           0           0   \n",
      "458  13844.03900           0           0           0           0           0   \n",
      "\n",
      "     1691388310  1691388370  1691388430  1691388490  ...  1693155020  \\\n",
      "0             0           0           0           0  ...           0   \n",
      "1             0           0           0           0  ...           0   \n",
      "2             0           0           0           0  ...           0   \n",
      "3             0           0           0           0  ...           0   \n",
      "4             0           0           0           0  ...           0   \n",
      "..          ...         ...         ...         ...  ...         ...   \n",
      "454           0           0           0           0  ...           0   \n",
      "455           0           0           0           0  ...           0   \n",
      "456           0           0           0           0  ...           0   \n",
      "457           0           0           0           0  ...           0   \n",
      "458           0           0           0           0  ...           0   \n",
      "\n",
      "     1693155080  1693155140  1693155200  1693155260  1693155320  1693155380  \\\n",
      "0             0           0           0           0           0           0   \n",
      "1             0           0           0           0           0           0   \n",
      "2             0           0           0           0           0           0   \n",
      "3             0           0           0           0           0           0   \n",
      "4             0           0           0           0           0           0   \n",
      "..          ...         ...         ...         ...         ...         ...   \n",
      "454           0           0           0           0           0           0   \n",
      "455           0           0           0           0           0           0   \n",
      "456           0           0           0           0           0           0   \n",
      "457           0           0           0           0           0           0   \n",
      "458           0           0           0           0           0           0   \n",
      "\n",
      "     1693155440  1693155500  1693155560  \n",
      "0             0           0           0  \n",
      "1             0           0           0  \n",
      "2             0           0           0  \n",
      "3             0           0           0  \n",
      "4             0           0           0  \n",
      "..          ...         ...         ...  \n",
      "454           0           0           0  \n",
      "455           0           0           0  \n",
      "456           0           0           0  \n",
      "457           0           0           0  \n",
      "458           0           0           0  \n",
      "\n",
      "[459 rows x 13761 columns]\n"
     ]
    }
   ],
   "source": [
    "# read in ground truth data\n",
    "ground_truth = pd.read_csv(PATH + '/hydrometeors_time_aligned_classes.csv')\n",
    "print(ground_truth)"
   ]
  },
  {
   "cell_type": "code",
   "execution_count": 5,
   "metadata": {},
   "outputs": [
    {
     "name": "stdout",
     "output_type": "stream",
     "text": [
      "          height  1691388010  1691388070  1691388130  1691388190  1691388250  \\\n",
      "0      114.54125           0           0           0           0           0   \n",
      "1      144.51833           0           0           0           0           0   \n",
      "2      174.49533           0           0           0           0           0   \n",
      "3      204.47241           0           0           0           0           0   \n",
      "4      234.44948           0           0           0           0           0   \n",
      "..           ...         ...         ...         ...         ...         ...   \n",
      "454  13724.13100           0           0           0           0           0   \n",
      "455  13754.10800           0           0           0           0           0   \n",
      "456  13784.08500           0           0           0           0           0   \n",
      "457  13814.06200           0           0           0           0           0   \n",
      "458  13844.03900           0           0           0           0           0   \n",
      "\n",
      "     1691388310  1691388370  1691388430  1691388490  ...  1693155020  \\\n",
      "0             0           0           0           0  ...           0   \n",
      "1             0           0           0           0  ...           0   \n",
      "2             0           0           0           0  ...           0   \n",
      "3             0           0           0           0  ...           0   \n",
      "4             0           0           0           0  ...           0   \n",
      "..          ...         ...         ...         ...  ...         ...   \n",
      "454           0           0           0           0  ...           0   \n",
      "455           0           0           0           0  ...           0   \n",
      "456           0           0           0           0  ...           0   \n",
      "457           0           0           0           0  ...           0   \n",
      "458           0           0           0           0  ...           0   \n",
      "\n",
      "     1693155080  1693155140  1693155200  1693155260  1693155320  1693155380  \\\n",
      "0             0           0           0           0           0           0   \n",
      "1             0           0           0           0           0           0   \n",
      "2             0           0           0           0           0           0   \n",
      "3             0           0           0           0           0           0   \n",
      "4             0           0           0           0           0           0   \n",
      "..          ...         ...         ...         ...         ...         ...   \n",
      "454           0           0           0           0           0           0   \n",
      "455           0           0           0           0           0           0   \n",
      "456           0           0           0           0           0           0   \n",
      "457           0           0           0           0           0           0   \n",
      "458           0           0           0           0           0           0   \n",
      "\n",
      "     1693155440  1693155500  1693155560  \n",
      "0             0           0           0  \n",
      "1             0           0           0  \n",
      "2             0           0           0  \n",
      "3             0           0           0  \n",
      "4             0           0           0  \n",
      "..          ...         ...         ...  \n",
      "454           0           0           0  \n",
      "455           0           0           0  \n",
      "456           0           0           0  \n",
      "457           0           0           0  \n",
      "458           0           0           0  \n",
      "\n",
      "[459 rows x 13761 columns]\n"
     ]
    }
   ],
   "source": [
    "# read in stereo data\n",
    "# CURRENTLY, READ IN GROUND TRUTH AS STEREO FOR PROOF OF CONCEPT!!!!!\n",
    "stereo = pd.read_csv(PATH + '/hydrometeors_time_aligned_classes.csv')\n",
    "print(ground_truth)"
   ]
  },
  {
   "cell_type": "code",
   "execution_count": 23,
   "metadata": {},
   "outputs": [
    {
     "name": "stdout",
     "output_type": "stream",
     "text": [
      "True Positives: 1495483\n",
      "True Negatives: 4819898\n"
     ]
    }
   ],
   "source": [
    "# count number of 1s and 0s in columns excluding first two coluumns\n",
    "# this is the number of true positives and true negatives\n",
    "Ones = (stereo.iloc[:, 2:] == 1).sum().sum()\n",
    "Zeros = (stereo.iloc[:, 2:] == 0).sum().sum()\n",
    "\n",
    "print('True Positives:', Ones)\n",
    "print('True Negatives:', Zeros)\n"
   ]
  },
  {
   "cell_type": "code",
   "execution_count": 6,
   "metadata": {},
   "outputs": [],
   "source": [
    "correct = 0\n",
    "incorrect = 0\n",
    "for column in ground_truth.iloc[:, 2:]:\n",
    "    for i in range(len(ground_truth[column])):\n",
    "        if ground_truth[column][i] == stereo[column][i]:\n",
    "            correct += 1\n",
    "        else:\n",
    "            incorrect += 1\n"
   ]
  },
  {
   "cell_type": "code",
   "execution_count": 7,
   "metadata": {},
   "outputs": [
    {
     "name": "stdout",
     "output_type": "stream",
     "text": [
      "Correct: 6315381\n",
      "Incorrect: 0\n",
      "Accuracy: 1.0\n"
     ]
    }
   ],
   "source": [
    "print('Correct:', correct)\n",
    "print('Incorrect:', incorrect)\n",
    "print('Accuracy:', correct / (correct + incorrect))"
   ]
  },
  {
   "cell_type": "code",
   "execution_count": 8,
   "metadata": {},
   "outputs": [
    {
     "name": "stdout",
     "output_type": "stream",
     "text": [
      "RMSE: 0.0\n"
     ]
    }
   ],
   "source": [
    "# calculate rmse\n",
    "rmse = np.sqrt(np.mean((ground_truth - stereo) ** 2))\n",
    "print('RMSE:', rmse)\n"
   ]
  },
  {
   "cell_type": "code",
   "execution_count": 9,
   "metadata": {},
   "outputs": [
    {
     "name": "stdout",
     "output_type": "stream",
     "text": [
      "MAE: 0.0\n"
     ]
    }
   ],
   "source": [
    "# calculate mae\n",
    "mae = np.mean(np.abs(ground_truth - stereo))\n",
    "print('MAE:', mae)"
   ]
  },
  {
   "cell_type": "code",
   "execution_count": null,
   "metadata": {},
   "outputs": [
    {
     "name": "stdout",
     "output_type": "stream",
     "text": [
      "[[4819898       0]\n",
      " [      0 1495483]]\n"
     ]
    }
   ],
   "source": [
    "# calculate confusion matrix\n",
    "# Convert the dataframes to binary classification (0 or 1), excluding the first two columns\n",
    "ground_truth_binary = (ground_truth.iloc[:, 2:] > 0).astype(int)\n",
    "stereo_binary = (stereo.iloc[:, 2:] > 0).astype(int)\n",
    "\n",
    "# Flatten the dataframes to 1D arrays\n",
    "ground_truth_flat = ground_truth_binary.values.flatten()\n",
    "stereo_flat = stereo_binary.values.flatten()\n",
    "\n",
    "# Calculate confusion matrix\n",
    "conf_matrix = confusion_matrix(ground_truth_flat, stereo_flat)\n",
    "print(conf_matrix)\n"
   ]
  },
  {
   "cell_type": "code",
   "execution_count": 13,
   "metadata": {},
   "outputs": [],
   "source": [
    "correct_columns = 0\n",
    "incorrect_columns = 0\n",
    "for column in ground_truth.iloc[:, 2:]:\n",
    "    if ground_truth[column].equals(stereo[column]):\n",
    "        correct_columns += 1\n",
    "    else:\n",
    "        incorrect_columns += 1\n"
   ]
  },
  {
   "cell_type": "code",
   "execution_count": 14,
   "metadata": {},
   "outputs": [
    {
     "name": "stdout",
     "output_type": "stream",
     "text": [
      "Correct: 13759\n",
      "Incorrect: 0\n",
      "Accuracy: 1.0\n"
     ]
    }
   ],
   "source": [
    "print('Correct:', correct_columns)\n",
    "print('Incorrect:', incorrect_columns)\n",
    "print('Accuracy:', correct_columns / (correct_columns + incorrect_columns))"
   ]
  },
  {
   "cell_type": "code",
   "execution_count": null,
   "metadata": {},
   "outputs": [
    {
     "name": "stdout",
     "output_type": "stream",
     "text": [
      "[[    0     0]\n",
      " [    0 13759]]\n"
     ]
    }
   ],
   "source": [
    "# Calculate confusion matrix for entire columns\n",
    "ground_truth_columns = ground_truth.iloc[:, 2:].apply(lambda col: ''.join(col.astype(str)), axis=0)\n",
    "stereo_columns = stereo.iloc[:, 2:].apply(lambda col: ''.join(col.astype(str)), axis=0)\n",
    "\n",
    "# Convert to binary classification (0 or 1) based on column equality\n",
    "ground_truth_binary_columns = (ground_truth_columns == stereo_columns).astype(int)\n",
    "\n",
    "# Calculate confusion matrix\n",
    "conf_matrix_columns = confusion_matrix([1] * len(ground_truth_binary_columns), ground_truth_binary_columns, labels=[0, 1])\n",
    "print(conf_matrix_columns)\n"
   ]
  }
 ],
 "metadata": {
  "kernelspec": {
   "display_name": ".venv",
   "language": "python",
   "name": "python3"
  },
  "language_info": {
   "codemirror_mode": {
    "name": "ipython",
    "version": 3
   },
   "file_extension": ".py",
   "mimetype": "text/x-python",
   "name": "python",
   "nbconvert_exporter": "python",
   "pygments_lexer": "ipython3",
   "version": "3.12.9"
  }
 },
 "nbformat": 4,
 "nbformat_minor": 2
}
